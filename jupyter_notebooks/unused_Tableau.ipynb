{
 "cells": [
  {
   "cell_type": "code",
   "execution_count": null,
   "metadata": {},
   "outputs": [],
   "source": [
    "# df_July1 = pd.DataFrame()\n",
    "# July_list1 = []\n",
    "\n",
    "# July_dates_in_df2 = df2[df2['starttime'] >= '2017-07-01 00:00:00']\n",
    "\n",
    "# for row in df1:\n",
    "#     date = df1.starttime[n]\n",
    "# #     if date >= '2017-07-01 00:00:00':\n",
    "#     July_list1.append(date)\n",
    "\n",
    "# July_dates_in_df2"
   ]
  },
  {
   "cell_type": "code",
   "execution_count": null,
   "metadata": {},
   "outputs": [],
   "source": [
    "# read csv dated\n",
    "# csv = \"Resources/June-18.csv\"\n",
    "# june18_df = pd.read_csv(csv)\n",
    "# june18_df"
   ]
  },
  {
   "cell_type": "code",
   "execution_count": null,
   "metadata": {},
   "outputs": [],
   "source": [
    "# look at current list of columns\n",
    "# combined_w_df.columns"
   ]
  },
  {
   "cell_type": "code",
   "execution_count": null,
   "metadata": {},
   "outputs": [],
   "source": [
    "# read csv dated Aug 1 2017 (end of Q2?)\n",
    "# looks to contain final data for July - next CSV picks up at August \n",
    "# csv = \"Resources/Aug2-17.csv\"\n",
    "# df2 = pd.read_csv(csv)\n",
    "# df2"
   ]
  },
  {
   "cell_type": "code",
   "execution_count": null,
   "metadata": {},
   "outputs": [],
   "source": [
    "# read csv dated\n",
    "# csv = \"Resources/Oct1-17.csv\"\n",
    "# df3 = pd.read_csv(csv)\n",
    "# df3"
   ]
  },
  {
   "cell_type": "code",
   "execution_count": null,
   "metadata": {},
   "outputs": [],
   "source": [
    "# type(df1['starttime'])\n",
    "# df1.starttime[1]"
   ]
  },
  {
   "cell_type": "code",
   "execution_count": null,
   "metadata": {},
   "outputs": [],
   "source": [
    "# df_July1 = pd.DataFrame()\n",
    "# July_list1 = []\n",
    "\n",
    "# July_dates = df1[df1['starttime'] >= '2017-07-01 00:00:00']\n",
    "\n",
    "# for row in df1:\n",
    "#     date = df1.starttime[n]\n",
    "# #     if date >= '2017-07-01 00:00:00':\n",
    "#     July_list1.append(date)\n",
    "\n",
    "# July_dates"
   ]
  },
  {
   "cell_type": "code",
   "execution_count": null,
   "metadata": {},
   "outputs": [],
   "source": [
    "# change combined_w_df to match later formats of csv files\n",
    "# combined_w_df.rename(columns={\"Trip Duration\": \"tripduration\",\n",
    "#                               \"Start Time\": \"starttime\",\n",
    "#                              \"Stop Time\": \"stoptime\",\n",
    "#                               \"Start Station ID\": \"start station id\",\n",
    "#                              \"Start Station Name\": \"start station name\",\n",
    "#                               \"Start Station Latitude\": \"start station latitude\",\n",
    "#                              \"Start Station Longitude\": \"start station longitude\",\n",
    "#                              \"End Station ID\": \"end station id\",\n",
    "#                              \"End Station Name\": \"end station name\",\n",
    "#                              \"End Station Latitude\": \"end station latitude\",\n",
    "#                              \"End Station Longitude\": \"end station longitude\",\n",
    "#                              \"Bike ID\": \"bikeid\",\n",
    "#                              \"User Type\": \"usertype\",\n",
    "#                              \"Birth Year\": \"birth year\",\n",
    "#                              \"Gender\": \"gender\"}, inplace=True)\n",
    "# combined_w_df"
   ]
  }
 ],
 "metadata": {
  "kernelspec": {
   "display_name": "Python 3.7.4 64-bit ('anaconda3': virtualenv)",
   "language": "python",
   "name": "python37464bitanaconda3virtualenvf91fde15fee24865809b849161d4b1f9"
  },
  "language_info": {
   "codemirror_mode": {
    "name": "ipython",
    "version": 3
   },
   "file_extension": ".py",
   "mimetype": "text/x-python",
   "name": "python",
   "nbconvert_exporter": "python",
   "pygments_lexer": "ipython3",
   "version": "3.7.4"
  }
 },
 "nbformat": 4,
 "nbformat_minor": 2
}
